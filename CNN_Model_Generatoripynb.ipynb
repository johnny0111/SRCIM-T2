{
  "nbformat": 4,
  "nbformat_minor": 0,
  "metadata": {
    "colab": {
      "name": "CNN_Model_Generatoripynb",
      "provenance": [],
      "collapsed_sections": []
    },
    "kernelspec": {
      "name": "python3",
      "display_name": "Python 3"
    }
  },
  "cells": [
    {
      "cell_type": "code",
      "metadata": {
        "id": "8kgm-witlI0c",
        "colab": {
          "base_uri": "https://localhost:8080/"
        },
        "outputId": "c34d9b08-ae1d-44b6-8618-fb740fd1cf14"
      },
      "source": [
        "# Tutorial\n",
        "\n",
        "\n",
        "\n",
        "#tutorial said 2.1.0\n",
        "#!pip install tensorflow==2.1.0\n",
        "import tensorflow as tf\n",
        "print(tf.__version__)\n",
        "\n",
        "!gdown --id \"1rtLYlLQ9QIMEb5v2eH1D9mu7FpgOqzYq\"\n",
        "\n",
        "#The os Package gives you access to the file system and the zipfile allows you\n",
        "# to unzip the data\n",
        "\n",
        "import os\n",
        "import zipfile\n",
        "\n",
        "local_zip = '/content/dataset_lab3_SRCIM_400.zip'\n",
        "zip_ref = zipfile.ZipFile(local_zip, 'r')\n",
        "zip_ref.extractall('/Temp')\n",
        "\n",
        "zip_ref.close()\n",
        "\n",
        "\n",
        "# The contents of the .zip are extracted to the directory /tmp/tutorial_dataset,\n",
        "# containing subdirectories for each class. Each subdirectory acts as the label\n",
        "# for the images it contains, in this case for the two classes of cat or dog.\n",
        "data_root = \"/Temp/dataset\""
      ],
      "execution_count": null,
      "outputs": [
        {
          "output_type": "stream",
          "text": [
            "2.4.0\n",
            "Downloading...\n",
            "From: https://drive.google.com/uc?id=1rtLYlLQ9QIMEb5v2eH1D9mu7FpgOqzYq\n",
            "To: /content/dataset_lab3_SRCIM_400.zip\n",
            "13.5MB [00:00, 113MB/s]\n"
          ],
          "name": "stdout"
        }
      ]
    },
    {
      "cell_type": "markdown",
      "metadata": {
        "id": "1esgum_liXKr"
      },
      "source": [
        "# New Section"
      ]
    },
    {
      "cell_type": "markdown",
      "metadata": {
        "id": "tA8FQ41XiXjV"
      },
      "source": [
        "# New Section"
      ]
    },
    {
      "cell_type": "markdown",
      "metadata": {
        "id": "uP2PCLqcMCgG"
      },
      "source": [
        "Part 2\n"
      ]
    },
    {
      "cell_type": "code",
      "metadata": {
        "id": "v8xf8LwBMFdz"
      },
      "source": [
        "# image shape is given as (height, width) in num of pixels\n",
        "IMAGE_SHAPE = (224,224)\n",
        "TRAINING_DATA_DIR = str(data_root)\n",
        "#additional pre-processing arguments can be passed here. Validtaion_split allows\n",
        "# us to split the dataset into a training set (80%) and validtaion set (\"20%\").\n",
        "\n",
        "\n",
        "datagen_kwargs = dict(\n",
        "    rescale=1./225,\n",
        "    validation_split=.20\n",
        ")\n",
        "\n",
        "\n",
        "\n"
      ],
      "execution_count": null,
      "outputs": []
    },
    {
      "cell_type": "code",
      "metadata": {
        "colab": {
          "base_uri": "https://localhost:8080/"
        },
        "id": "pYe8hLPxOXK2",
        "outputId": "e03771fc-0a8d-4fd5-93d5-8e4b9db813b8"
      },
      "source": [
        "train_datagen = tf.keras.preprocessing.image.ImageDataGenerator(**datagen_kwargs)\n",
        "train_generator = train_datagen.flow_from_directory(\n",
        "    TRAINING_DATA_DIR,\n",
        "    subset=\"training\",\n",
        "    shuffle=True,\n",
        "    target_size=IMAGE_SHAPE\n",
        ")\n",
        "valid_datagen = tf.keras.preprocessing.image.ImageDataGenerator(**datagen_kwargs)\n",
        "valid_generator = valid_datagen.flow_from_directory(\n",
        "    TRAINING_DATA_DIR,\n",
        "    subset=\"validation\",\n",
        "    shuffle=True,\n",
        "    target_size = IMAGE_SHAPE\n",
        ")\n",
        "#Additional Reference Material: : https://keras.io/api/preprocessing/image/"
      ],
      "execution_count": null,
      "outputs": [
        {
          "output_type": "stream",
          "text": [
            "Found 320 images belonging to 2 classes.\n",
            "Found 80 images belonging to 2 classes.\n"
          ],
          "name": "stdout"
        }
      ]
    },
    {
      "cell_type": "code",
      "metadata": {
        "id": "RpDhAaNWObBc"
      },
      "source": [
        "model = tf.keras.models.Sequential()\n",
        "model.add(tf.keras.layers.Conv2D(filters=32, kernel_size=(3,3),input_shape=(224,224,3), activation='relu'))\n",
        "\n",
        "#Add a Pooling layer. Once more, as a starting point use Max Pooling 2x2\n",
        "model.add(tf.keras.layers.MaxPooling2D(pool_size=(2,2)))\n",
        "\n",
        "# Second Convoltional layer\n",
        "model.add(tf.keras.layers.Conv2D(filters=64, kernel_size=(3,3), activation='relu'))\n",
        "model.add(tf.keras.layers.MaxPooling2D(pool_size=(2,2)))\n",
        "\n",
        "# Third convolutional layer\n",
        "model.add(tf.keras.layers.Conv2D(filters=128, kernel_size=(3,3), activation='relu'))\n",
        "model.add(tf.keras.layers.MaxPooling2D(pool_size=(2,2)))\n",
        "\n",
        "# Fourth convolutional layer\n",
        "model.add(tf.keras.layers.Conv2D(filters=256, kernel_size=(3,3), activation='relu'))\n",
        "model.add(tf.keras.layers.MaxPooling2D(pool_size=(2,2)))\n"
      ],
      "execution_count": null,
      "outputs": []
    },
    {
      "cell_type": "code",
      "metadata": {
        "colab": {
          "base_uri": "https://localhost:8080/"
        },
        "id": "grsL_6PhToSM",
        "outputId": "9ecfde60-23eb-4d00-cb79-09cd5491c684"
      },
      "source": [
        "# Flatten the pooled feature map into a column (vector) to be passed as input to the\n",
        "# artificial neural network:\n",
        "\n",
        "model.add(tf.keras.layers.Flatten())\n",
        "\n",
        "#Add the fully-connected layer with a rectified linear unit (ReLU) activation:\n",
        "model.add(tf.keras.layers.Dense(128))\n",
        "model.add(tf.keras.layers.Activation('relu'))\n",
        "\n",
        "#Add the output layer. We want to output the probability predicted by the model for\n",
        "#each class, so we get the number of classes from our generator and use a softmax\n",
        "#activation.\n",
        "model.add(tf.keras.layers.Dense(train_generator.num_classes, activation='softmax'))\n",
        "\n",
        "model.build([None, 224,224,3])\n",
        "model.summary()\n",
        "\n",
        "\n",
        "# Lastly, we compile the model. We use the Adam optimizer and binary cross-entropy\n",
        "# as our loss.\n",
        "optimizer = tf.keras.optimizers.Adam()\n",
        "model.compile(\n",
        "    optimizer=optimizer,\n",
        "    loss='binary_crossentropy',\n",
        "    metrics=['acc']\n",
        ")"
      ],
      "execution_count": null,
      "outputs": [
        {
          "output_type": "stream",
          "text": [
            "Model: \"sequential_1\"\n",
            "_________________________________________________________________\n",
            "Layer (type)                 Output Shape              Param #   \n",
            "=================================================================\n",
            "conv2d_4 (Conv2D)            (None, 222, 222, 32)      896       \n",
            "_________________________________________________________________\n",
            "max_pooling2d_4 (MaxPooling2 (None, 111, 111, 32)      0         \n",
            "_________________________________________________________________\n",
            "conv2d_5 (Conv2D)            (None, 109, 109, 64)      18496     \n",
            "_________________________________________________________________\n",
            "max_pooling2d_5 (MaxPooling2 (None, 54, 54, 64)        0         \n",
            "_________________________________________________________________\n",
            "conv2d_6 (Conv2D)            (None, 52, 52, 128)       73856     \n",
            "_________________________________________________________________\n",
            "max_pooling2d_6 (MaxPooling2 (None, 26, 26, 128)       0         \n",
            "_________________________________________________________________\n",
            "conv2d_7 (Conv2D)            (None, 24, 24, 256)       295168    \n",
            "_________________________________________________________________\n",
            "max_pooling2d_7 (MaxPooling2 (None, 12, 12, 256)       0         \n",
            "_________________________________________________________________\n",
            "flatten_1 (Flatten)          (None, 36864)             0         \n",
            "_________________________________________________________________\n",
            "dense_2 (Dense)              (None, 128)               4718720   \n",
            "_________________________________________________________________\n",
            "activation_1 (Activation)    (None, 128)               0         \n",
            "_________________________________________________________________\n",
            "dense_3 (Dense)              (None, 2)                 258       \n",
            "=================================================================\n",
            "Total params: 5,107,394\n",
            "Trainable params: 5,107,394\n",
            "Non-trainable params: 0\n",
            "_________________________________________________________________\n"
          ],
          "name": "stdout"
        }
      ]
    },
    {
      "cell_type": "code",
      "metadata": {
        "colab": {
          "base_uri": "https://localhost:8080/"
        },
        "id": "aZGPDGIWT1LK",
        "outputId": "1d986ca3-5c20-4d5e-bc51-16db65bdde7f"
      },
      "source": [
        "import numpy as np\n",
        "\n",
        "# An additional step here is the inclusion of the early stopping callback. This will make\n",
        "# it so that if the performance of the model does not improve for 2 consecutive epochs\n",
        "# (in this case, given by patience = 2), the training will stop to mitigate overfitting. Also,\n",
        "# we store the training history for later.\n",
        "\n",
        "\n",
        "\n",
        "#Callbacks = [tf.keras.callbacks.EarlyStopping(patience=2)]\n",
        "#Removed because it was no longer necessary for this work.\n",
        "\n",
        "\n",
        "steps_per_epoch = np.ceil(train_generator.samples/train_generator.batch_size)\n",
        "val_steps_per_epoch = np.ceil(valid_generator.samples/valid_generator.batch_size)\n",
        "hist = model.fit(\n",
        "    train_generator,\n",
        "    epochs = 20,\n",
        "    verbose = 1,\n",
        "    steps_per_epoch = steps_per_epoch,\n",
        "    validation_data=valid_generator,\n",
        "    validation_steps=val_steps_per_epoch).history\n",
        "\n",
        "\n",
        "\n",
        "#to Visualize\n",
        "\n",
        "import matplotlib.pyplot as plt\n",
        "\n",
        "plt.figure()\n",
        "plt.ylabel(\"Loss (training and validation)\")\n",
        "plt.xlabel(\"Training Steps\")\n",
        "plt.ylim([0,2])\n",
        "plt.plot(hist[\"loss\"])\n",
        "plt.plot(hist[\"val_loss\"])\n",
        "plt.figure()\n",
        "plt.ylabel(\"Accuracy (training and validation)\")\n",
        "plt.xlabel(\"Training Steps\")\n",
        "plt.ylim([0.6,1])\n",
        "plt.plot(hist[\"acc\"])\n",
        "plt.plot(hist[\"val_acc\"])\n",
        "\n",
        "final_loss, final_accuracy  = model.evaluate(valid_generator, steps = val_steps_per_epoch)\n",
        "print(\"Final loss: {:.2f}\".format(final_loss))\n",
        "print(\"Final accuracy: {:.2f}%\".format(final_accuracy * 100))\n",
        "\n",
        "model.save(\"srcim_model3.h5\")"
      ],
      "execution_count": null,
      "outputs": [
        {
          "output_type": "stream",
          "text": [
            "Epoch 1/20\n",
            "10/10 [==============================] - 33s 3s/step - loss: 0.8355 - acc: 0.4648 - val_loss: 0.6958 - val_acc: 0.5000\n",
            "Epoch 2/20\n",
            "10/10 [==============================] - 32s 3s/step - loss: 0.6932 - acc: 0.4979 - val_loss: 0.6931 - val_acc: 0.5000\n",
            "Epoch 3/20\n",
            "10/10 [==============================] - 32s 3s/step - loss: 0.6931 - acc: 0.4928 - val_loss: 0.6930 - val_acc: 0.5000\n",
            "Epoch 4/20\n",
            "10/10 [==============================] - 32s 3s/step - loss: 0.6923 - acc: 0.5128 - val_loss: 0.6928 - val_acc: 0.5000\n",
            "Epoch 5/20\n",
            "10/10 [==============================] - 31s 3s/step - loss: 0.6896 - acc: 0.5725 - val_loss: 0.6934 - val_acc: 0.4625\n",
            "Epoch 6/20\n",
            "10/10 [==============================] - 32s 3s/step - loss: 0.6900 - acc: 0.5859 - val_loss: 0.6925 - val_acc: 0.5000\n",
            "Epoch 7/20\n",
            "10/10 [==============================] - 32s 3s/step - loss: 0.6742 - acc: 0.5157 - val_loss: 0.7027 - val_acc: 0.5500\n",
            "Epoch 8/20\n",
            "10/10 [==============================] - 32s 3s/step - loss: 0.6645 - acc: 0.5942 - val_loss: 0.7284 - val_acc: 0.4625\n",
            "Epoch 9/20\n",
            "10/10 [==============================] - 32s 3s/step - loss: 0.6020 - acc: 0.6394 - val_loss: 0.7152 - val_acc: 0.4500\n",
            "Epoch 10/20\n",
            "10/10 [==============================] - 32s 3s/step - loss: 0.5249 - acc: 0.7515 - val_loss: 0.6739 - val_acc: 0.6875\n",
            "Epoch 11/20\n",
            "10/10 [==============================] - 32s 3s/step - loss: 0.5396 - acc: 0.7840 - val_loss: 0.5290 - val_acc: 0.8625\n",
            "Epoch 12/20\n",
            "10/10 [==============================] - 32s 3s/step - loss: 0.4862 - acc: 0.8090 - val_loss: 0.5504 - val_acc: 0.7875\n",
            "Epoch 13/20\n",
            "10/10 [==============================] - 32s 3s/step - loss: 0.4801 - acc: 0.7955 - val_loss: 0.5168 - val_acc: 0.6375\n",
            "Epoch 14/20\n",
            "10/10 [==============================] - 32s 3s/step - loss: 0.3760 - acc: 0.8659 - val_loss: 0.3869 - val_acc: 0.8625\n",
            "Epoch 15/20\n",
            "10/10 [==============================] - 32s 3s/step - loss: 0.2308 - acc: 0.9338 - val_loss: 0.2815 - val_acc: 0.9250\n",
            "Epoch 16/20\n",
            "10/10 [==============================] - 32s 3s/step - loss: 0.2434 - acc: 0.9366 - val_loss: 0.2726 - val_acc: 0.9125\n",
            "Epoch 17/20\n",
            "10/10 [==============================] - 32s 3s/step - loss: 0.1511 - acc: 0.9478 - val_loss: 0.4345 - val_acc: 0.8750\n",
            "Epoch 18/20\n",
            "10/10 [==============================] - 31s 3s/step - loss: 0.2385 - acc: 0.9279 - val_loss: 0.2612 - val_acc: 0.8750\n",
            "Epoch 19/20\n",
            "10/10 [==============================] - 32s 3s/step - loss: 0.1857 - acc: 0.9400 - val_loss: 0.2011 - val_acc: 0.9500\n",
            "Epoch 20/20\n",
            "10/10 [==============================] - 31s 3s/step - loss: 0.1183 - acc: 0.9636 - val_loss: 0.1617 - val_acc: 0.9750\n",
            "3/3 [==============================] - 2s 682ms/step - loss: 0.1617 - acc: 0.9750\n",
            "Final loss: 0.16\n",
            "Final accuracy: 97.50%\n"
          ],
          "name": "stdout"
        },
        {
          "output_type": "display_data",
          "data": {
            "image/png": "[encoded data removed]",
            "text/plain": [
              "<Figure size 432x288 with 1 Axes>"
            ]
          },
          "metadata": {
            "tags": [],
            "needs_background": "light"
          }
        },
        {
          "output_type": "display_data",
          "data": {
            "image/png": "[encoded data removed]",
            "text/plain": [
              "<Figure size 432x288 with 1 Axes>"
            ]
          },
          "metadata": {
            "tags": [],
            "needs_background": "light"
          }
        }
      ]
    }
  ]
}